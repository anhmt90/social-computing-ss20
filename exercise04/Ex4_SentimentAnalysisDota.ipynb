{
 "cells": [
  {
   "cell_type": "markdown",
   "metadata": {},
   "source": [
    "# Social Computing/Social Gaming - Summer 2020\n",
    "\n",
    "# Exercise Sheet 4: Sentiment Analysis in DotA\n",
    "\n",
    "In this exercise we will work with data gathered from the popular MOBA *Defense of the Ancients 2* or short DotA 2, developed by Valve in 2013. If you are unfamiliar with this game, we provide a short introduction that should be enough to make you understand what the tasks demand from you:\n",
    "\n",
    "In Dota 2, two teams of 5 players play against each other on a single map, each team trying to destroy the enemy base, also called the ancient. In order to do this, they try to kill each other, earn gold and experience by killing non player characters called creeps to gain an advantage over the enemy. In every match, players first choose from a pool of 117 different heroes which are roughly divided into 2 groups: Carries, who start out weak and become much stronger once they accumulated a sufficient amount of gold to buy items they need, and supports, who start protect the carries in the early stages of a match, but tend to become less relevant in the later stages. Every team needs a balanced hero selection in order to have a chance of winning, as too many carries will have that team face a disadvantage early on, while too many supports may cause that team to struggle to win the game even once an advantage has been secured early.\n",
    "\n",
    "Psychologically speaking, DotA - or any MOBA for that matter - is an experiment on succesful team formation and cooperation, as 5 strangers meet each other for one match with the same goal, but usually different views on how to achieve it. Its real world equivalent would be any mash-up of people forced to work in a group, the only difference being that usually real-life situations don't involve another group working against them. \n",
    "\n",
    "Needless to say, the nature of the game does provoke negativity at times, and we want to try to predict it. More precisely, we want to find out whether we can infer negative player behavior from modelling the state of a game as a set of values.\n",
    "\n",
    "The .csv files provided for you contain information from 1.500 matches played during December 2016, and are split into 5 tables: \n",
    "\n",
    "- chat.csv : this table contains information about what was said in the chat between teams, when it was said and which player said it. We need the 'key', 'time' and 'slot' column as we are only interested in which team the players belong to, not their identities.\n",
    "- match.scsv: contains information about the game results. We only need the 'radiant_win' column from it, which tells us which team won.\n",
    "- players.csv : Detailed statistics for every player. 'kills' and 'deaths' columns are needed as we will need them to determine underperforming players\n",
    "- player_times.csv: Among other things the gold accumulated by every player, for every minute of a match, used to calculate the difference in gold earned between these teams.\n",
    "- labels.xlsx : a sample of labeled chat used for the sentiment analysis"
   ]
  },
  {
   "cell_type": "markdown",
   "metadata": {},
   "source": [
    "## Task 4.1: Your first sentiment analysis\n",
    "\n",
    "Sentiment analysis, sometimes called opinion mining, is a method to derive information from the text that allows for a classification as neutral, positive or negative. It is a semi-supervised process, meaning that you need a small set of labeled data to train your machine learning model on in order to use it on another set of unlabeled data. Without the labeled set it would be difficult for your AI to know what exactly makes a statement positive or negative. Some of its many practical applications are the analysis of customer reviews, social media comments or survey responses.\n",
    "\n",
    "**Note:** We will use a random forest classifier in this task.\n",
    "\n",
    "Your task is to train a model using the labeled data, then use that model to predict the sentiments of the whole chat. Let us start with the basics:"
   ]
  },
  {
   "cell_type": "markdown",
   "metadata": {},
   "source": [
    "### a) Preparation\n",
    "\n",
    "Import the labels and split them into two arrays: the chat itself and the labels.\n",
    "\n",
    "A label is like a review of a single message:  \n",
    "-1 = negative  \n",
    " 0 = neutral   \n",
    " 1 = positive"
   ]
  },
  {
   "cell_type": "code",
   "execution_count": 1,
   "metadata": {},
   "outputs": [],
   "source": [
    "#import libraries needed for sentiment analysis\n",
    "import numpy as np \n",
    "import pandas as pd \n",
    "import re\n",
    "import nltk \n",
    "import matplotlib.pyplot as plt\n",
    "\n",
    "#TODO: Import \"labels.xlsx\" and split it into 2 arrays: chat and labels.\n",
    "label_count = 450\n",
    "df = pd.read_excel('labels.xlsx', header=None)\n",
    "\n",
    "chat_data = df[0][:label_count]\n",
    "chat_labels = df[1][:label_count]"
   ]
  },
  {
   "cell_type": "markdown",
   "metadata": {},
   "source": [
    "### b) How to train your model\n",
    "\n",
    "In this step you will use the chat and labels to train your random forest classifier. In order to do so, create the random forest classifier, fit it and make a prediction on the test set.\n",
    "\n",
    "After you are done, print the accuracy score and comment on it.\n",
    "\n",
    "**Hints:**\n",
    "- When creating the classifier, use n_estimators=200, random_state=0 as arguments.\n",
    "- The test should be 20% of the whole set"
   ]
  },
  {
   "cell_type": "code",
   "execution_count": 2,
   "metadata": {},
   "outputs": [
    {
     "name": "stderr",
     "output_type": "stream",
     "text": [
      "[nltk_data] Downloading package stopwords to C:\\Users\\Ma-\n",
      "[nltk_data]     Anh\\AppData\\Roaming\\nltk_data...\n",
      "[nltk_data]   Package stopwords is already up-to-date!\n"
     ]
    },
    {
     "data": {
      "text/plain": [
       "True"
      ]
     },
     "execution_count": 2,
     "metadata": {},
     "output_type": "execute_result"
    }
   ],
   "source": [
    "# There are some words which do not have any valuable classification information. \n",
    "# We will use 'stopwords' to get rid of them.\n",
    "import nltk\n",
    "nltk.download('stopwords')"
   ]
  },
  {
   "cell_type": "code",
   "execution_count": 3,
   "metadata": {},
   "outputs": [
    {
     "name": "stdout",
     "output_type": "stream",
     "text": [
      "\n",
      "Confusion matrix:\n",
      " [[ 8 21  1]\n",
      " [ 5 51  0]\n",
      " [ 0  4  0]]\n",
      "\n",
      "Classification report:\n",
      "               precision    recall  f1-score   support\n",
      "\n",
      "    negative       0.62      0.27      0.37        30\n",
      "     neutral       0.67      0.91      0.77        56\n",
      "    positive       0.00      0.00      0.00         4\n",
      "\n",
      "    accuracy                           0.66        90\n",
      "   macro avg       0.43      0.39      0.38        90\n",
      "weighted avg       0.62      0.66      0.60        90\n",
      "\n",
      "\n",
      "Accuracy score:  0.6555555555555556\n"
     ]
    }
   ],
   "source": [
    "import nltk\n",
    "import sklearn\n",
    "from nltk.corpus import stopwords\n",
    "from sklearn.feature_extraction.text import TfidfVectorizer\n",
    "from sklearn.model_selection import train_test_split\n",
    "from sklearn.ensemble import RandomForestClassifier\n",
    "from sklearn.metrics import classification_report, confusion_matrix, accuracy_score\n",
    "from sklearn import preprocessing\n",
    "\n",
    "chat_data = [str(item) for item in chat_data]\n",
    "vectorizer = TfidfVectorizer(max_features=2500, min_df=3, max_df=0.8, stop_words=stopwords.words('english'))\n",
    "chat_data = vectorizer.fit_transform(chat_data).toarray()\n",
    "\n",
    "# TODO: Create the random forest classifier, fit it and make a prediction on the test set.\n",
    "X_train, X_test, y_train, y_test = train_test_split(chat_data, chat_labels, test_size=0.2, random_state=0)\n",
    "# y_train --> ('neutral', 244) ('negative', 90) ('positive', 26)\n",
    "# y_test --> ('neutral', 56) ('negative', 30) ('positive', 4)\n",
    "\n",
    "rf = RandomForestClassifier(n_estimators=200, random_state=0)\n",
    "rf.fit(X_train, y_train)\n",
    "predictions = rf.predict(X_test)\n",
    "\n",
    "print('\\nConfusion matrix:\\n', confusion_matrix(y_test, predictions))\n",
    "print('\\nClassification report:\\n', classification_report(y_test, predictions))\n",
    "print('\\nAccuracy score: ', accuracy_score(y_test, predictions))"
   ]
  },
  {
   "cell_type": "code",
   "execution_count": 4,
   "metadata": {},
   "outputs": [
    {
     "name": "stdout",
     "output_type": "stream",
     "text": [
      "\n",
      "Class distribution for training data:  {'negative': 90, 'neutral': 244, 'positive': 26}\n"
     ]
    }
   ],
   "source": [
    "y_train_classes, y_train_counts = np.unique(y_train, return_counts=True)\n",
    "print('\\nClass distribution for training data: ', dict(zip(y_train_classes, y_train_counts.tolist())))"
   ]
  },
  {
   "cell_type": "markdown",
   "metadata": {},
   "source": [
    "**TODO: Write your observations here:**\n",
    "\n",
    "From the class ditribution (`'negative': 90, 'neutral': 244, 'positive': 26`) of the training set and from the supports of the confusion matrix (whose $i$-th row and $j$-th column entry indicates the number of samples with true label being $i$-th class and prediced label being $j$-th class), we can see that we are dealing with an imbalanced dataset. Therefore, Accuracy Score is not a reliable performance measure in this case and we should rely on the f1-score measure shown in the classification report table.\n",
    "\n",
    "Since our goal is to predict negativity in game chats, samples with negative label are of greatest interest. In addition, accurately predicting negative chats is absolutely important for the label assignment and analysis performed in the later subtasks of this exercises, where negativity will be used as one of the predictors for predicting whether a team will lose a game or not.\n",
    "\n",
    "As false negatives (FN - wrongly predicting a chat not negative while it actually is) and false positives (FP - wrongly predicting a chat negative while it's not) impact equally on the correctness of the label assigning in substask 4.1.c and therefore the later analysis, the cost for FN and FP predictions would be more or less equal. This is another reason for F1-score, which is a measure of weighted average between precision and recall, to be used for evaluating the performance of the model. Unfortunately, our model with F1-score of $0.37$ for negative class will be unlikely assigning correct labels to negative chats in the next substask 4.1.c."
   ]
  },
  {
   "cell_type": "markdown",
   "metadata": {},
   "source": [
    "### c) Prediction time:\n",
    "\n",
    "Now you can use the model to predict the sentiments for the whole chat. Import the chat and predict the labels. You will need to use `vectorizer.transform().toarray()` on your data, but **DO NOT** use `fit()` anywhere! The classifier is already fitted, fitting it again effectively erases all it has learned.\n",
    "\n",
    "**Hint:** chat.csv includes ALL chatlines, including those that have been used in the previous steps and are already labeled. Don't label them again.\n",
    "\n",
    "**Note:** The chat table is massive. Labelling all of it may take a while."
   ]
  },
  {
   "cell_type": "code",
   "execution_count": 5,
   "metadata": {},
   "outputs": [
    {
     "name": "stdout",
     "output_type": "stream",
     "text": [
      "\n",
      "Prediction counts for unlabeled data:  {'negative': 3187, 'neutral': 41675, 'positive': 1457}\n",
      "['neutral' 'neutral' 'neutral' ... 'neutral' 'neutral' 'neutral']\n"
     ]
    }
   ],
   "source": [
    "chatData = pd.read_csv(\"chat.csv\")\n",
    "unlabeled = chatData.iloc[:,1].values\n",
    "# TODO:\n",
    "unlabeled = [str(item) for item in unlabeled[label_count:]]\n",
    "unlabeled_tfidf = vectorizer.transform(unlabeled).toarray()\n",
    "predictions = rf.predict(unlabeled_tfidf)\n",
    "labels, counts = np.unique(predictions, return_counts=True)\n",
    "\n",
    "print('\\nPrediction counts for unlabeled data: ', dict(zip(labels.tolist(), counts.tolist())))\n",
    "print(predictions)"
   ]
  },
  {
   "cell_type": "markdown",
   "metadata": {},
   "source": [
    "## Task 4.2: Linear regression\n",
    "\n",
    "Linear regression is a technique that tries to find a correlation between a set of input variables x and a dependant variable y. In mathematical terms:\n",
    "\n",
    "$$y = \\alpha + \\beta X + \\epsilon$$\n",
    "\n",
    "where:\n",
    "- $X$ is the predictive vector, containing the (predictive) variables\n",
    "- $\\alpha$ and $\\beta$ are the model's parameters, where $\\alpha$ is the intercept/bias, $\\beta$ the coefficient vector containing coefficients for each predictive variable\n",
    "- and $\\epsilon$ the prediction error.\n",
    "\n",
    "Note that the assumption made is that the relationship is linear. This is a special case of polynomial regression, where we would allow for e.g. squared relationships.\n",
    "\n",
    "Our dependant variable is the negativity in the chat. Therefore we need to convert our labels into numbers first: We will use 0 for neutral, -1 for negative and +1 for positive sentiments. This is, of course, a simplification, as not all negative statements are equally negative. But we need to acknowledge that it is simply impossible to make an accurate distinction without knowing any context. And if we knew that, there would be no point in doing this regression."
   ]
  },
  {
   "cell_type": "code",
   "execution_count": 6,
   "metadata": {},
   "outputs": [],
   "source": [
    "# Convert the labels into values\n",
    "sentiments = []\n",
    "for i in chat_labels:\n",
    "    if i == 'positive':\n",
    "        sentiments.append(1)\n",
    "    elif i == 'negative':\n",
    "        sentiments.append(-1)\n",
    "    else:\n",
    "        sentiments.append(0)"
   ]
  },
  {
   "cell_type": "code",
   "execution_count": 7,
   "metadata": {},
   "outputs": [],
   "source": [
    "for i in predictions:\n",
    "    if i == 'positive':\n",
    "        sentiments.append(1)\n",
    "    elif i == 'negative':\n",
    "        sentiments.append(-1)\n",
    "    elif i == 'neutral':\n",
    "        sentiments.append(0)"
   ]
  },
  {
   "cell_type": "markdown",
   "metadata": {},
   "source": [
    "### a) Preparation:\n",
    "\n",
    "1. First, we need to read the csv files and group them by `match_id`.\n",
    "\n",
    "2. We will create a dataframe containing all relevant information and each row will represent one match. An empty dataframe has already been created for you with all the columns you need to fill. Here is an explanation of what you need to put into each column:\n",
    "\n",
    "3. Create a list of tuples called `full_chatdata`, each tuple has the following structure: label, team.\n",
    "\n",
    "4. Create a list called `goldData` containing the gold advantage for every timestamp of a match (usually every minute).\n",
    "\n",
    "5. Create a list called `KDratios` of kill-death ratios for each player in a match, split into two parts, one for each team, called ratiosRadiant and ratiosDire.\n",
    "\n",
    "6. Add an additional column called `radiant_win` displaying the winning team using boolean.\n",
    "\n",
    "**Hints:**\n",
    "\n",
    "- you can find the labels in the chatData dataframe\n",
    "- use the `slot` column to determine the team. 0 to 4 is for radiant, 5-9 is for dire\n",
    "- There is a column in the match.csv file called `radiant_win` that displays true if team radiant won, false if not"
   ]
  },
  {
   "cell_type": "code",
   "execution_count": 8,
   "metadata": {},
   "outputs": [
    {
     "data": {
      "text/html": [
       "<div>\n",
       "<style scoped>\n",
       "    .dataframe tbody tr th:only-of-type {\n",
       "        vertical-align: middle;\n",
       "    }\n",
       "\n",
       "    .dataframe tbody tr th {\n",
       "        vertical-align: top;\n",
       "    }\n",
       "\n",
       "    .dataframe thead th {\n",
       "        text-align: right;\n",
       "    }\n",
       "</style>\n",
       "<table border=\"1\" class=\"dataframe\">\n",
       "  <thead>\n",
       "    <tr style=\"text-align: right;\">\n",
       "      <th></th>\n",
       "      <th>chatData</th>\n",
       "      <th>goldData</th>\n",
       "      <th>KDratios</th>\n",
       "      <th>radiant_win</th>\n",
       "    </tr>\n",
       "  </thead>\n",
       "  <tbody>\n",
       "    <tr>\n",
       "      <th>0</th>\n",
       "      <td>[[0, dire], [0, radiant], [0, radiant], [-1, d...</td>\n",
       "      <td>[0, -257, -255, -567, -550, -1037, -1131, -122...</td>\n",
       "      <td>[[3.0, 4.333333333333333, 0.0, 2.0, 6.66666666...</td>\n",
       "      <td>True</td>\n",
       "    </tr>\n",
       "    <tr>\n",
       "      <th>1</th>\n",
       "      <td>[[0, radiant], [0, radiant], [-1, radiant], [-...</td>\n",
       "      <td>[0, -480, -583, -964, -573, -821, -937, -1077,...</td>\n",
       "      <td>[[0.75, 0.9, 0.38461538461538464, 0.8, 0.54545...</td>\n",
       "      <td>False</td>\n",
       "    </tr>\n",
       "    <tr>\n",
       "      <th>2</th>\n",
       "      <td>[[1, dire], [-1, radiant], [1, dire], [-1, rad...</td>\n",
       "      <td>[0, 273, 700, 839, 177, 522, -373, -69, -383, ...</td>\n",
       "      <td>[[0.38461538461538464, 0.5454545454545454, 1.6...</td>\n",
       "      <td>False</td>\n",
       "    </tr>\n",
       "    <tr>\n",
       "      <th>3</th>\n",
       "      <td>[[0, dire], [0, radiant], [0, dire], [0, dire]...</td>\n",
       "      <td>[0, -487, -157, -178, -69, -255, -497, -404, -...</td>\n",
       "      <td>[[0.3076923076923077, 1.8461538461538463, 1.54...</td>\n",
       "      <td>False</td>\n",
       "    </tr>\n",
       "    <tr>\n",
       "      <th>4</th>\n",
       "      <td>[[0, dire], [0, radiant], [0, radiant], [0, di...</td>\n",
       "      <td>[0, 333, 240, 515, 1310, 1755, 2044, 2839, 303...</td>\n",
       "      <td>[[4.0, 4.5, 0.3333333333333333, 0.25, 3.0], [0...</td>\n",
       "      <td>True</td>\n",
       "    </tr>\n",
       "  </tbody>\n",
       "</table>\n",
       "</div>"
      ],
      "text/plain": [
       "                                            chatData  \\\n",
       "0  [[0, dire], [0, radiant], [0, radiant], [-1, d...   \n",
       "1  [[0, radiant], [0, radiant], [-1, radiant], [-...   \n",
       "2  [[1, dire], [-1, radiant], [1, dire], [-1, rad...   \n",
       "3  [[0, dire], [0, radiant], [0, dire], [0, dire]...   \n",
       "4  [[0, dire], [0, radiant], [0, radiant], [0, di...   \n",
       "\n",
       "                                            goldData  \\\n",
       "0  [0, -257, -255, -567, -550, -1037, -1131, -122...   \n",
       "1  [0, -480, -583, -964, -573, -821, -937, -1077,...   \n",
       "2  [0, 273, 700, 839, 177, 522, -373, -69, -383, ...   \n",
       "3  [0, -487, -157, -178, -69, -255, -497, -404, -...   \n",
       "4  [0, 333, 240, 515, 1310, 1755, 2044, 2839, 303...   \n",
       "\n",
       "                                            KDratios  radiant_win  \n",
       "0  [[3.0, 4.333333333333333, 0.0, 2.0, 6.66666666...         True  \n",
       "1  [[0.75, 0.9, 0.38461538461538464, 0.8, 0.54545...        False  \n",
       "2  [[0.38461538461538464, 0.5454545454545454, 1.6...        False  \n",
       "3  [[0.3076923076923077, 1.8461538461538463, 1.54...        False  \n",
       "4  [[4.0, 4.5, 0.3333333333333333, 0.25, 3.0], [0...         True  "
      ]
     },
     "execution_count": 8,
     "metadata": {},
     "output_type": "execute_result"
    }
   ],
   "source": [
    "import pandas as pd\n",
    "import numpy as np\n",
    "\n",
    "# 1. Read the csv files and group them by match id\n",
    "chatData = pd.read_csv(\"chat.csv\")\n",
    "chatData = chatData.drop(['unit'],axis=1)\n",
    "chatData['label'] = sentiments # We are assigning labels to the chat messages\n",
    "chatData = chatData.groupby('match_id')\n",
    "player_times = pd.read_csv(\"player_time.csv\")\n",
    "player_times = player_times.groupby('match_id')\n",
    "match_info = pd.read_csv(\"match.csv\")\n",
    "radiant_win = match_info['radiant_win']\n",
    "player_info = pd.read_csv(\"players.csv\")\n",
    "player_info = player_info[['match_id', 'kills','deaths']]\n",
    "player_info = player_info.groupby('match_id')\n",
    "\n",
    "\n",
    "# 2. Create the dataframe\n",
    "dataframe = pd.DataFrame(columns = ['chatData','goldData', 'KDratios', 'radiant_win'])\n",
    "\n",
    "# 3.\n",
    "full_chatdata = []\n",
    "\n",
    "for name, group in chatData:\n",
    "    chat_data_line = []\n",
    "    for index,row in group.iterrows():\n",
    "        chat_tuple = []\n",
    "        # TODO: Create a list of tuples called full_chatdata, each tuple has the following structure: label, team.\n",
    "        # Hint 1: use the label column to determine the negativity/positivity of the message\n",
    "        # Hint 2: use the 'slot' column to determine the team. 0 to 4 is for radiant, 5-9 is for dire.\n",
    "        team = 'radiant' if 0 <= row['slot'] <= 4 else 'dire'\n",
    "        chat_tuple = [row['label'], team]\n",
    "        chat_data_line.append(chat_tuple)\n",
    "    full_chatdata.append(chat_data_line)\n",
    "        \n",
    "# 4. Create a list containing the gold advantage\n",
    "full_golddata =[]\n",
    "\n",
    "for name,group in player_times:\n",
    "    radiantAdv =[]\n",
    "    for index, row in group.iterrows():\n",
    "        radiantAdv.append((row['gold_t_0']+row['gold_t_1']+row['gold_t_2']+row['gold_t_3']+row['gold_t_4'])-\n",
    "            (row['gold_t_128']+row['gold_t_129']+row['gold_t_130']+row['gold_t_131']+row['gold_t_132']))\n",
    "        \n",
    "    full_golddata.append(radiantAdv)\n",
    "\n",
    "\n",
    "# 5.\n",
    "full_playerinfo = []\n",
    "for name, group in player_info:\n",
    "    playerinfo = []\n",
    "    for index, row in group.iterrows():\n",
    "        killsdeaths = []\n",
    "        killsdeaths.append(row['kills'])\n",
    "        killsdeaths.append(row['deaths'])\n",
    "        playerinfo.append(killsdeaths)\n",
    "    full_playerinfo.append(playerinfo)\n",
    "\n",
    "full_KDRatios = []\n",
    "\n",
    "for row in full_playerinfo:\n",
    "    KDRatios = []\n",
    "    ratiosRadiant =[]\n",
    "    ratiosDire = []\n",
    "    for i,player in enumerate(row):\n",
    "        # TODO: Create a list called [...] kill-death ratios for each player\n",
    "        # Hint: For each game the kd ratios should look like the following: \n",
    "        # [[RadiantPlayer0KD, ... RadiantPlayer4KD],[DirePlayer0KD, ... DirePlayer4KD]] \n",
    "        kills = player[0]\n",
    "        deaths = player[1]\n",
    "        ratio = (kills / deaths) if deaths != 0 else float(kills)\n",
    "        if i < 5:\n",
    "            ratiosRadiant.append(ratio)\n",
    "        else:\n",
    "            ratiosDire.append(ratio)\n",
    "\n",
    "    KDRatios.append(ratiosRadiant)\n",
    "    KDRatios.append(ratiosDire)\n",
    "    full_KDRatios.append(KDRatios)\n",
    "        \n",
    "# We add the newly created columns to our dataframe       \n",
    "dataframe['chatData'] = full_chatdata\n",
    "dataframe['goldData'] = full_golddata\n",
    "dataframe['radiant_win'] = radiant_win\n",
    "dataframe['KDratios'] = full_KDRatios\n",
    "        \n",
    "dataframe.head(5)"
   ]
  },
  {
   "cell_type": "markdown",
   "metadata": {},
   "source": [
    "### b) Per-match analysis:\n",
    "\n",
    "As you may have noticed, the gold variables are gathered every minute, but the chat times are irregular. We could try to group the chat into 60 second timeframes that would correspond with the gold values, but this would be too tedious. Instead, we will simplify this by looking at the game as a whole:\n",
    "\n",
    "1. Compute the average negativity for each team by iterating over the list of tuples you created in exercise 4.2.3.\n",
    "\n",
    "2. Then, compute the average gold advantage for each match, and add a column for the gold advantage at the end of a match. The gold advantage at the end of a match is the last value of the list.\n",
    "\n",
    "3. Create a new column for the difference in negativity between the two teams.\n",
    "\n",
    "4. The kill/death ratios aren't very useful in the current format. Take the lowest K/D ratio from each team and create new columns for them. The reasoning behind this is that a low K/D ratio is a sign of underperformance of a player and players who do not perform on an acceptable level are usually harassed more often."
   ]
  },
  {
   "cell_type": "code",
   "execution_count": 9,
   "metadata": {},
   "outputs": [
    {
     "data": {
      "text/html": [
       "<div>\n",
       "<style scoped>\n",
       "    .dataframe tbody tr th:only-of-type {\n",
       "        vertical-align: middle;\n",
       "    }\n",
       "\n",
       "    .dataframe tbody tr th {\n",
       "        vertical-align: top;\n",
       "    }\n",
       "\n",
       "    .dataframe thead th {\n",
       "        text-align: right;\n",
       "    }\n",
       "</style>\n",
       "<table border=\"1\" class=\"dataframe\">\n",
       "  <thead>\n",
       "    <tr style=\"text-align: right;\">\n",
       "      <th></th>\n",
       "      <th>chatData</th>\n",
       "      <th>goldData</th>\n",
       "      <th>KDratios</th>\n",
       "      <th>radiant_win</th>\n",
       "      <th>toxicityR</th>\n",
       "      <th>toxicityD</th>\n",
       "      <th>goldEnd</th>\n",
       "      <th>diff</th>\n",
       "      <th>worstKDR</th>\n",
       "      <th>worstKDD</th>\n",
       "    </tr>\n",
       "  </thead>\n",
       "  <tbody>\n",
       "    <tr>\n",
       "      <th>0</th>\n",
       "      <td>[[0, dire], [0, radiant], [0, radiant], [-1, d...</td>\n",
       "      <td>5405.651163</td>\n",
       "      <td>[[3.0, 4.333333333333333, 0.0, 2.0, 6.66666666...</td>\n",
       "      <td>True</td>\n",
       "      <td>-0.173913</td>\n",
       "      <td>-0.214286</td>\n",
       "      <td>22365</td>\n",
       "      <td>0.040373</td>\n",
       "      <td>0.000000</td>\n",
       "      <td>0.071429</td>\n",
       "    </tr>\n",
       "    <tr>\n",
       "      <th>1</th>\n",
       "      <td>[[0, radiant], [0, radiant], [-1, radiant], [-...</td>\n",
       "      <td>-7245.478261</td>\n",
       "      <td>[[0.75, 0.9, 0.38461538461538464, 0.8, 0.54545...</td>\n",
       "      <td>False</td>\n",
       "      <td>-0.636364</td>\n",
       "      <td>-0.200000</td>\n",
       "      <td>-35698</td>\n",
       "      <td>-0.436364</td>\n",
       "      <td>0.384615</td>\n",
       "      <td>0.166667</td>\n",
       "    </tr>\n",
       "    <tr>\n",
       "      <th>2</th>\n",
       "      <td>[[1, dire], [-1, radiant], [1, dire], [-1, rad...</td>\n",
       "      <td>-4928.145833</td>\n",
       "      <td>[[0.38461538461538464, 0.5454545454545454, 1.6...</td>\n",
       "      <td>False</td>\n",
       "      <td>-0.375000</td>\n",
       "      <td>-0.190476</td>\n",
       "      <td>-26720</td>\n",
       "      <td>-0.184524</td>\n",
       "      <td>0.000000</td>\n",
       "      <td>0.833333</td>\n",
       "    </tr>\n",
       "    <tr>\n",
       "      <th>3</th>\n",
       "      <td>[[0, dire], [0, radiant], [0, dire], [0, dire]...</td>\n",
       "      <td>-2074.759259</td>\n",
       "      <td>[[0.3076923076923077, 1.8461538461538463, 1.54...</td>\n",
       "      <td>False</td>\n",
       "      <td>0.000000</td>\n",
       "      <td>-0.214286</td>\n",
       "      <td>-7919</td>\n",
       "      <td>0.214286</td>\n",
       "      <td>0.117647</td>\n",
       "      <td>0.263158</td>\n",
       "    </tr>\n",
       "    <tr>\n",
       "      <th>4</th>\n",
       "      <td>[[0, dire], [0, radiant], [0, radiant], [0, di...</td>\n",
       "      <td>13510.088235</td>\n",
       "      <td>[[4.0, 4.5, 0.3333333333333333, 0.25, 3.0], [0...</td>\n",
       "      <td>True</td>\n",
       "      <td>-0.333333</td>\n",
       "      <td>-0.500000</td>\n",
       "      <td>41280</td>\n",
       "      <td>0.166667</td>\n",
       "      <td>0.250000</td>\n",
       "      <td>0.090909</td>\n",
       "    </tr>\n",
       "  </tbody>\n",
       "</table>\n",
       "</div>"
      ],
      "text/plain": [
       "                                            chatData      goldData  \\\n",
       "0  [[0, dire], [0, radiant], [0, radiant], [-1, d...   5405.651163   \n",
       "1  [[0, radiant], [0, radiant], [-1, radiant], [-...  -7245.478261   \n",
       "2  [[1, dire], [-1, radiant], [1, dire], [-1, rad...  -4928.145833   \n",
       "3  [[0, dire], [0, radiant], [0, dire], [0, dire]...  -2074.759259   \n",
       "4  [[0, dire], [0, radiant], [0, radiant], [0, di...  13510.088235   \n",
       "\n",
       "                                            KDratios  radiant_win  toxicityR  \\\n",
       "0  [[3.0, 4.333333333333333, 0.0, 2.0, 6.66666666...         True  -0.173913   \n",
       "1  [[0.75, 0.9, 0.38461538461538464, 0.8, 0.54545...        False  -0.636364   \n",
       "2  [[0.38461538461538464, 0.5454545454545454, 1.6...        False  -0.375000   \n",
       "3  [[0.3076923076923077, 1.8461538461538463, 1.54...        False   0.000000   \n",
       "4  [[4.0, 4.5, 0.3333333333333333, 0.25, 3.0], [0...         True  -0.333333   \n",
       "\n",
       "   toxicityD  goldEnd      diff  worstKDR  worstKDD  \n",
       "0  -0.214286    22365  0.040373  0.000000  0.071429  \n",
       "1  -0.200000   -35698 -0.436364  0.384615  0.166667  \n",
       "2  -0.190476   -26720 -0.184524  0.000000  0.833333  \n",
       "3  -0.214286    -7919  0.214286  0.117647  0.263158  \n",
       "4  -0.500000    41280  0.166667  0.250000  0.090909  "
      ]
     },
     "execution_count": 9,
     "metadata": {},
     "output_type": "execute_result"
    }
   ],
   "source": [
    "from sklearn import  svm \n",
    "from sklearn.model_selection import train_test_split \n",
    "from sklearn.linear_model import LinearRegression\n",
    "from statistics import mean\n",
    "\n",
    "\n",
    "# 1. Average negativity\n",
    "radiantToxicity_full = []\n",
    "direToxicity_full = []\n",
    "\n",
    "for index, row in dataframe.iterrows():\n",
    "    radiantToxicity = 0\n",
    "    direToxicity = 0\n",
    "    # These counters keep of track of the number of messages each team wrote:\n",
    "    radiantcounter = 0\n",
    "    direcounter = 0\n",
    "    for tup in row['chatData']:\n",
    "        # TODO: Calculate each team's toxicity by summing all labels of a match.\n",
    "        # Hint: Don't forget to keep count of the number of messages written by each team.\n",
    "        label, team = tup\n",
    "        if team == 'radiant':\n",
    "            radiantcounter += 1\n",
    "            if label == -1:\n",
    "                radiantToxicity += label\n",
    "        elif team == 'dire':\n",
    "            direcounter += 1\n",
    "            if label == -1:\n",
    "                direToxicity += label\n",
    "\n",
    "    radiantToxicity_full.append(radiantToxicity / radiantcounter if radiantcounter != 0 else radiantToxicity)\n",
    "    direToxicity_full.append(direToxicity / direcounter if direcounter != 0 else radiantToxicity)\n",
    "        \n",
    "# 2. Average gold\n",
    "goldAverages = []\n",
    "goldEnd = []\n",
    "for index, row in dataframe.iterrows():\n",
    "    # TODO: Compute the average gold advantage for each match, as well as the gold advantage at the end of the match.\n",
    "    # Hint: The column goldData contains a list with gold advantage per minutes.\n",
    "    goldAverages.append(sum(row['goldData']) / len(row['goldData']))\n",
    "    goldEnd.append(row['goldData'][-1])\n",
    "    \n",
    "# 3. Difference in negativity\n",
    "differences = []\n",
    "# TODO: Compute the difference in negativity between the 2 teams.\n",
    "differences = np.array(radiantToxicity_full) - np.array(direToxicity_full)\n",
    "differences = differences.tolist()\n",
    "\n",
    "# 4. K/D ratios\n",
    "worstRadiant = []\n",
    "worstDire = []\n",
    "for index, row in dataframe.iterrows():\n",
    "    # TODO: Take the lowest K/D ratio from each team and create new columns for them.\n",
    "    worstRadiant.append(min(row['KDratios'][0]))\n",
    "    worstDire.append(min(row['KDratios'][1]))\n",
    "    \n",
    "# We add the newly created columns to our dataframe       \n",
    "dataframe['toxicityR'] = radiantToxicity_full\n",
    "dataframe['toxicityD'] = direToxicity_full\n",
    "dataframe['goldData'] = goldAverages\n",
    "dataframe['goldEnd'] = goldEnd \n",
    "dataframe['diff'] = differences\n",
    "dataframe['worstKDR'] = worstRadiant\n",
    "dataframe['worstKDD'] = worstDire\n",
    "\n",
    "dataframe.head(5)"
   ]
  },
  {
   "cell_type": "markdown",
   "metadata": {},
   "source": [
    "### c) A warm-up regression\n",
    "\n",
    "Before we test our hypothesis of whether or not the state of the game influences player behavior, we will perform a linear regression with only one input variable: The gold advantage. \n",
    "\n",
    "You have probably wondered why we just assume that the gold values would represent the state of a game, whether a team is losing or winning. So far, this has only been a theory, and we should test it, as it would not make sense to use it as a representation for the state of the game in the actual regression model, if it wasn't representative at all.\n",
    "\n",
    "1. Once again, split your data into a train set and test set, create a linear regression model, fit the data and print your score. Try it two times: Your dependant variable should always be `radiant_win`, your X should be the average gold advantage and the gold advantage at the end. \n",
    "\n",
    "2. Discuss the score you obtained! What do the results mean for the explanatory power of the gold variables?"
   ]
  },
  {
   "cell_type": "code",
   "execution_count": 10,
   "metadata": {},
   "outputs": [
    {
     "name": "stdout",
     "output_type": "stream",
     "text": [
      "Regression with single preditor X = goldData\n",
      "0.6641129670999255\n"
     ]
    },
    {
     "data": {
      "image/png": "[encoded data removed]",
      "text/plain": [
       "<Figure size 432x288 with 1 Axes>"
      ]
     },
     "metadata": {
      "needs_background": "light"
     },
     "output_type": "display_data"
    }
   ],
   "source": [
    "from sklearn import linear_model\n",
    "\n",
    "# TODO 1:\n",
    "print('Regression with single preditor X = goldData')\n",
    "X = dataframe['goldData'].to_numpy().reshape(-1, 1) # TODO \n",
    "y = dataframe['radiant_win'].to_numpy() # TODO\n",
    "\n",
    "# Splitting the data into training and testing data\n",
    "X_train, X_test, y_train, y_test = train_test_split(X, y, test_size = 0.25) \n",
    "  \n",
    "regr = LinearRegression() \n",
    "  \n",
    "regr.fit(X_train, y_train) \n",
    "print(regr.score(X_test, y_test))\n",
    "\n",
    "y_pred = regr.predict(X_test) \n",
    "plt.scatter(X_test, y_test, color ='b') \n",
    "plt.plot(X_test, y_pred, color ='k') \n",
    "  \n",
    "plt.show() "
   ]
  },
  {
   "cell_type": "code",
   "execution_count": 11,
   "metadata": {},
   "outputs": [
    {
     "name": "stdout",
     "output_type": "stream",
     "text": [
      "Regression with single preditor X = goldEnd\n",
      "0.8654432579876028\n"
     ]
    },
    {
     "data": {
      "image/png": "[encoded data removed]",
      "text/plain": [
       "<Figure size 432x288 with 1 Axes>"
      ]
     },
     "metadata": {
      "needs_background": "light"
     },
     "output_type": "display_data"
    }
   ],
   "source": [
    "print('Regression with single preditor X = goldEnd')\n",
    "X = dataframe['goldEnd'].to_numpy().reshape(-1, 1) # TODO \n",
    "y = dataframe['radiant_win'].to_numpy() # TODO\n",
    "\n",
    "# Splitting the data into training and testing data\n",
    "X_train, X_test, y_train, y_test = train_test_split(X, y, test_size = 0.25) \n",
    "  \n",
    "regr = LinearRegression() \n",
    "  \n",
    "regr.fit(X_train, y_train) \n",
    "print(regr.score(X_test, y_test))\n",
    "\n",
    "y_pred = regr.predict(X_test) \n",
    "plt.scatter(X_test, y_test, color ='b') \n",
    "plt.plot(X_test, y_pred, color ='k') \n",
    "  \n",
    "plt.show() "
   ]
  },
  {
   "cell_type": "markdown",
   "metadata": {},
   "source": [
    "**TODO: Write your observations here:**\n",
    "From the outputs above, we have the score for the model using single predictor `goldData` is $0.644$ and the score for the model using single predictor `goldEnd` is $0.85$. From the documentation of `sklearn.linear_model.LinearRegression`, the `score()` method returns the $R^2$ value of the model. This means, $R^2_{goldData} = 0.644$ and $R^2_{goldEnd} = 0.85$. This indicates that the independent variable `goldEnd` has more explanatory power for the state of a game than `goldData` does, and therefore, `goldEnd` is better a predictor for `radiant_win` than `goldData`. These values show that, $85\\%$ of the variation in `radiant_win` can be explained by the variation in the predictor `goldEnd`, while `goldData` accounts for $64.4\\%$ of the variation in `radiant_win`.\n",
    "\n",
    "However, look at the plots, we can by no means conclude that $R^2$ value indicates how well the regression line fit the data. Obviously, the relationship between the predictor `goldData` or `goldEnd` and the dependent variable `radiant_win` is not linear. To fit this data better, we need to choose a nonlinear method such as Logistic Regression."
   ]
  },
  {
   "cell_type": "markdown",
   "metadata": {},
   "source": [
    "### d) Testing our hypothesis\n",
    "\n",
    "**1.** Finally, we can do our linear regression. This time, use the gold data, the kill/death ratios and the negativity scores."
   ]
  },
  {
   "cell_type": "code",
   "execution_count": 12,
   "metadata": {},
   "outputs": [
    {
     "name": "stdout",
     "output_type": "stream",
     "text": [
      "0.00569518563591731\n"
     ]
    }
   ],
   "source": [
    "# TODO 1:\n",
    "# X = dataframe[dataframe.columns.difference(['chatData', 'radiant_win', 'KDratios'])].to_numpy() # TODO \n",
    "X = dataframe[['goldData', 'goldEnd', 'worstKDR', 'worstKDD']].to_numpy() # TODO \n",
    "Y = dataframe['diff'].to_numpy() # TODO\n",
    " \n",
    "# with sklearn\n",
    "regr = linear_model.LinearRegression()\n",
    "regr.fit(X, Y)\n",
    "print(regr.score(X,Y))"
   ]
  },
  {
   "cell_type": "markdown",
   "metadata": {},
   "source": [
    "### e) Discussion\n",
    "\n",
    "What is the score? What does that number mean? Discuss possible reasons for this result.  \n",
    "**Hint:** Take a peek at the labels.xlsx file and look at some of the most common negative words. "
   ]
  },
  {
   "cell_type": "markdown",
   "metadata": {},
   "source": [
    "**TODO: Write your observations here:**\n",
    "The $R^2$ value of $0.0056951$ is low, which indicates that the set of predictors `goldData`, `goldEnd`, `worstKDR`, `worstKDD` accounts for almost none of the variation in the difference of negativity between two playing teams. In other words, there is no linear relationship between these four predictors and `diff`. However, there maybe exists a curvilinear/nonlinear relationship between them, for which we should allow higher orders of polynomial regression or the likes. The reasons might be:\n",
    "\n",
    "- Negative chats are often short, most of the time with only 1 to 4 words, so it is hard to infer whether those chats are about the state of a game or not. \n",
    "- Negative chats do not talk about the state of a game, but rather to solely insult or offend other people for their ego"
   ]
  }
 ],
 "metadata": {
  "kernelspec": {
   "display_name": "Python 3",
   "language": "python",
   "name": "python3"
  },
  "language_info": {
   "codemirror_mode": {
    "name": "ipython",
    "version": 3
   },
   "file_extension": ".py",
   "mimetype": "text/x-python",
   "name": "python",
   "nbconvert_exporter": "python",
   "pygments_lexer": "ipython3",
   "version": "3.8.2"
  }
 },
 "nbformat": 4,
 "nbformat_minor": 2
}
